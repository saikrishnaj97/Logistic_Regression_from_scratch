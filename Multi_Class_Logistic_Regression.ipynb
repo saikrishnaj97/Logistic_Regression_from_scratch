{
 "cells": [
  {
   "cell_type": "markdown",
   "metadata": {},
   "source": [
    "# Multi-Class Logistic Regression from Scratch\n",
    "### Author : Saikrishna Javvadi"
   ]
  },
  {
   "cell_type": "code",
   "execution_count": 1,
   "metadata": {},
   "outputs": [
    {
     "name": "stdout",
     "output_type": "stream",
     "text": [
      "['ale' 'lager' 'stout']\n"
     ]
    },
    {
     "data": {
      "text/html": [
       "<div>\n",
       "<style scoped>\n",
       "    .dataframe tbody tr th:only-of-type {\n",
       "        vertical-align: middle;\n",
       "    }\n",
       "\n",
       "    .dataframe tbody tr th {\n",
       "        vertical-align: top;\n",
       "    }\n",
       "\n",
       "    .dataframe thead th {\n",
       "        text-align: right;\n",
       "    }\n",
       "</style>\n",
       "<table border=\"1\" class=\"dataframe\">\n",
       "  <thead>\n",
       "    <tr style=\"text-align: right;\">\n",
       "      <th></th>\n",
       "      <th>calorific_value</th>\n",
       "      <th>nitrogen</th>\n",
       "      <th>turbidity</th>\n",
       "      <th>alcohol</th>\n",
       "      <th>sugars</th>\n",
       "      <th>bitterness</th>\n",
       "      <th>color</th>\n",
       "      <th>degree_of_fermentation</th>\n",
       "      <th>style</th>\n",
       "    </tr>\n",
       "  </thead>\n",
       "  <tbody>\n",
       "    <tr>\n",
       "      <th>0</th>\n",
       "      <td>41.721239</td>\n",
       "      <td>0.503276</td>\n",
       "      <td>2.628182</td>\n",
       "      <td>4.015385</td>\n",
       "      <td>16.73</td>\n",
       "      <td>10.452789</td>\n",
       "      <td>13.44</td>\n",
       "      <td>55.337143</td>\n",
       "      <td>ale</td>\n",
       "    </tr>\n",
       "    <tr>\n",
       "      <th>1</th>\n",
       "      <td>42.429204</td>\n",
       "      <td>0.525512</td>\n",
       "      <td>1.776364</td>\n",
       "      <td>4.092308</td>\n",
       "      <td>16.72</td>\n",
       "      <td>10.999526</td>\n",
       "      <td>12.24</td>\n",
       "      <td>58.380000</td>\n",
       "      <td>ale</td>\n",
       "    </tr>\n",
       "    <tr>\n",
       "      <th>2</th>\n",
       "      <td>45.880531</td>\n",
       "      <td>0.443233</td>\n",
       "      <td>2.628182</td>\n",
       "      <td>4.276923</td>\n",
       "      <td>16.68</td>\n",
       "      <td>13.456368</td>\n",
       "      <td>10.92</td>\n",
       "      <td>58.382857</td>\n",
       "      <td>ale</td>\n",
       "    </tr>\n",
       "    <tr>\n",
       "      <th>3</th>\n",
       "      <td>45.305310</td>\n",
       "      <td>0.471668</td>\n",
       "      <td>1.806364</td>\n",
       "      <td>4.126154</td>\n",
       "      <td>18.84</td>\n",
       "      <td>9.202737</td>\n",
       "      <td>10.92</td>\n",
       "      <td>58.525714</td>\n",
       "      <td>ale</td>\n",
       "    </tr>\n",
       "    <tr>\n",
       "      <th>4</th>\n",
       "      <td>38.977876</td>\n",
       "      <td>0.392846</td>\n",
       "      <td>2.272727</td>\n",
       "      <td>4.015385</td>\n",
       "      <td>16.77</td>\n",
       "      <td>9.457895</td>\n",
       "      <td>10.56</td>\n",
       "      <td>58.900000</td>\n",
       "      <td>ale</td>\n",
       "    </tr>\n",
       "  </tbody>\n",
       "</table>\n",
       "</div>"
      ],
      "text/plain": [
       "   calorific_value  nitrogen  turbidity   alcohol  sugars  bitterness  color  \\\n",
       "0        41.721239  0.503276   2.628182  4.015385   16.73   10.452789  13.44   \n",
       "1        42.429204  0.525512   1.776364  4.092308   16.72   10.999526  12.24   \n",
       "2        45.880531  0.443233   2.628182  4.276923   16.68   13.456368  10.92   \n",
       "3        45.305310  0.471668   1.806364  4.126154   18.84    9.202737  10.92   \n",
       "4        38.977876  0.392846   2.272727  4.015385   16.77    9.457895  10.56   \n",
       "\n",
       "   degree_of_fermentation style  \n",
       "0               55.337143   ale  \n",
       "1               58.380000   ale  \n",
       "2               58.382857   ale  \n",
       "3               58.525714   ale  \n",
       "4               58.900000   ale  "
      ]
     },
     "execution_count": 1,
     "metadata": {},
     "output_type": "execute_result"
    }
   ],
   "source": [
    "\"\"\"\n",
    "Description : Importing the data and setting up the stage to create algorithm from scratch\n",
    "\n",
    "\"\"\"\n",
    "import pandas as pd\n",
    "import numpy as np\n",
    "from sklearn.linear_model import LogisticRegression\n",
    "from sklearn.model_selection import train_test_split\n",
    "from sklearn.metrics import accuracy_score  \n",
    "from sklearn import preprocessing\n",
    "from sklearn.model_selection import cross_val_score\n",
    "from sklearn.metrics import confusion_matrix\n",
    "import seaborn as sns\n",
    "import matplotlib.pyplot as plt\n",
    "%matplotlib inline\n",
    "import warnings\n",
    "warnings.simplefilter(action = \"ignore\", category = RuntimeWarning)\n",
    "\n",
    "#Reading the data file\n",
    "df = pd.read_excel('C:\\\\Users\\\\javva\\\\Downloads\\\\beer.xlsx') \n",
    "#Rearranging the columns\n",
    "df = df[['beer_id','calorific_value', 'nitrogen', 'turbidity', 'alcohol','sugars','bitterness','color',\n",
    "                   'degree_of_fermentation','style']]\n",
    "column_names = ['beer_id','calorific_value', 'nitrogen', 'turbidity', 'alcohol','sugars','bitterness','color',\n",
    "                   'degree_of_fermentation','style'] \n",
    "\n",
    "#droping the beer_id column\n",
    "df = df.drop(columns = ['beer_id'])\n",
    "#Getting the data into numpy arrays i.e X_data(independent variables) and Y_data(dependent variable/label) \n",
    "X_data,Y_data = df.iloc[:,:-1].values, df.iloc[:,-1].values\n",
    "#Unique classes that are to be  classified in the data\n",
    "classes = np.unique(Y_data)\n",
    "print(classes)\n",
    "df.head()"
   ]
  },
  {
   "cell_type": "markdown",
   "metadata": {},
   "source": [
    "### Feature Scaling"
   ]
  },
  {
   "cell_type": "code",
   "execution_count": 2,
   "metadata": {},
   "outputs": [],
   "source": [
    "def feature_scaling(X):\n",
    "    \"\"\"\n",
    "    Description: Feature scaling using standarization\n",
    "    Arguments:\n",
    "    X -- A scalar or numpy array of any size.\n",
    "    Return:\n",
    "    X_scaled -- A numpy array of scaled data\n",
    "    \n",
    "    \"\"\"\n",
    "    mean = np.mean(X_data, axis=0) \n",
    "    sd = np.std(X_data, axis=0) \n",
    "    X_scaled= (X -  mean) / sd\n",
    "    \n",
    "    return X_scaled"
   ]
  },
  {
   "cell_type": "markdown",
   "metadata": {},
   "source": [
    "### Sigmoid Function"
   ]
  },
  {
   "cell_type": "code",
   "execution_count": 3,
   "metadata": {},
   "outputs": [],
   "source": [
    "def sigmoid(z):\n",
    "    \"\"\"\n",
    "    Description: Compute the sigmoid of z\n",
    "    Arguments:\n",
    "    z -- A scalar or numpy array of any size.\n",
    "    Return:\n",
    "    s -- sigmoid(z)\n",
    "    \n",
    "    \"\"\"\n",
    "    s = 1 / (1 + np.exp(-z))\n",
    "    \n",
    "    return s"
   ]
  },
  {
   "cell_type": "markdown",
   "metadata": {},
   "source": [
    "### Cost Function"
   ]
  },
  {
   "cell_type": "code",
   "execution_count": 4,
   "metadata": {},
   "outputs": [],
   "source": [
    "def cost_function(theta, X, Y,lambda_reg = 0.09):\n",
    "    \"\"\"\n",
    "    Description:Implemention of the cost function with regularization\n",
    "\n",
    "    Arguments:\n",
    "    theta -- parameters, a numpy array of shape (3,8) i.e (3 - unique classes,8 - number of independent variables)\n",
    "    X -- a numpy array of independent variables\n",
    "    Y -- a numpy array of dependent variable(style) having true labels of data\n",
    "    lambda_reg -- regularization constant lambda\n",
    "\n",
    "    Return:\n",
    "    cost -- negative log-likelihood cost for logistic regression\n",
    "    A -- the probabilities for X with respect to theta\n",
    "    \n",
    "    \"\"\"\n",
    "    m = len(Y)\n",
    "    A = sigmoid(np.dot(X,theta)) \n",
    "    regularization = (lambda_reg/(2 * m)) * np.sum(theta**2)\n",
    "    cost=(- 1 / m) * np.sum(Y * np.log(A) + (1 - Y) * (np.log(1 - A))) + regularization\n",
    "    return cost,A   "
   ]
  },
  {
   "cell_type": "markdown",
   "metadata": {},
   "source": [
    "### Gradient"
   ]
  },
  {
   "cell_type": "code",
   "execution_count": 5,
   "metadata": {},
   "outputs": [],
   "source": [
    "def gradient(theta, X, Y,lambda_reg = 0.09):\n",
    "    \"\"\"\n",
    "    Description:Implementation of gradient for regularized logistic regression \n",
    "\n",
    "    Arguments:\n",
    "    theta -- parameters, a numpy array of shape (3,8) i.e (3 - unique classes,8 - number of independent variables)\n",
    "    X -- a numpy array of independent variables\n",
    "    Y -- a numpy array of dependent variable(style) having true labels of data\n",
    "    lambda_reg -- regularization constant lambda\n",
    "\n",
    "    Return:\n",
    "    cost -- negative log-likelihood cost for logistic regression\n",
    "    gradient -- gradient for regularized logistic regression that will be descented in the next step\n",
    "    \n",
    "    \"\"\"\n",
    "    cost,A = cost_function(theta, X, Y)\n",
    "    m, n = X.shape\n",
    "    theta = theta.reshape((n, 1))\n",
    "    gradient = (1 / m) * np.dot(X.T,(A - Y))+ (lambda_reg /m)*theta\n",
    "    return cost, gradient"
   ]
  },
  {
   "cell_type": "markdown",
   "metadata": {},
   "source": [
    "### Gradient Descent (Optimization) "
   ]
  },
  {
   "cell_type": "code",
   "execution_count": 6,
   "metadata": {},
   "outputs": [],
   "source": [
    "def optimize(X, Y, theta, num_iterations , learning_rate,print_cost = False):\n",
    "    \"\"\"\n",
    "    Description: This function optimizes theta by running a gradient descent algorithm\n",
    "\n",
    "    Arguments:\n",
    "    X -- a numpy array of independent variables\n",
    "    Y -- a numpy array of dependent variable(style) having true labels of data\n",
    "    theta -- parameters, a numpy array of shape (3,8) i.e (3 - unique classes,8 - number of independent variables)\n",
    "    num_iterations -- hyperparameter representing the number of iterations to optimize the parameters\n",
    "    learning_rate -- hyperparameter representing the learning rate used in the update rule of optimize()\n",
    "    print_cost -- True to print the loss every 100 steps\n",
    "\n",
    "    Return:\n",
    "    costs -- list of all the costs computed during the optimization, this will be used to plot the learning curve.\n",
    "    theta -- updated vector of parameters(theta) after performing the gradient descent\n",
    "    \n",
    "    \"\"\"\n",
    "    costs = []\n",
    "    \n",
    "    \n",
    "    for i in range(num_iterations):\n",
    "        \n",
    "        cost, _gradient = gradient(theta, X, Y)\n",
    "        theta -= learning_rate * _gradient \n",
    "        \n",
    "        costs.append(cost)\n",
    "        \n",
    "        # Print the cost every 100 training iterations if required\n",
    "        if print_cost and i % 100 == 0:\n",
    "            print (\"Cost after iteration %i: %f\" %(i, cost))\n",
    "        \n",
    "    return costs,theta.reshape(8)"
   ]
  },
  {
   "cell_type": "markdown",
   "metadata": {},
   "source": [
    "### Predict Labels "
   ]
  },
  {
   "cell_type": "code",
   "execution_count": 7,
   "metadata": {},
   "outputs": [],
   "source": [
    "def predict(theta, X):\n",
    "    \"\"\"\n",
    "    Description: Convert probabilities A[0,i] to actual predictions p[0,i]\n",
    "\n",
    "    Arguments:\n",
    "    theta -- parameters, a numpy array of shape (3,8) i.e (3 - unique classes,8 - number of independent variables)\n",
    "    X -- a numpy array of independent variables\n",
    "\n",
    "    Return:\n",
    "    prediction : a numpy array containing the predictions for the data\n",
    "    \n",
    "    \"\"\"\n",
    "    A = sigmoid(np.dot(X,theta.T)) \n",
    "    #Predicting the class as the one with highest probability value\n",
    "    predictions = [classes[np.argmax(A[i, :])] for i in range(X.shape[0])]\n",
    "        \n",
    "    return predictions"
   ]
  },
  {
   "cell_type": "markdown",
   "metadata": {},
   "source": [
    "### Accuracy of the model"
   ]
  },
  {
   "cell_type": "code",
   "execution_count": 8,
   "metadata": {},
   "outputs": [],
   "source": [
    "def accuracy(Y, predictions):\n",
    "    \"\"\"\n",
    "    Description: Calculate the accuracy score by checking how many predictions our algorithm got right\n",
    "\n",
    "    Arguments:\n",
    "    Y -- a numpy array of dependent variable(style) having true labels of data\n",
    "    predictions -- a numpy array of dependent variable(style) having predicted labels of data\n",
    "\n",
    "    Return:\n",
    "    accuracy : the accuracy of the implemented algorithm\n",
    "    \n",
    "    \"\"\"\n",
    "    accuracy = sum(predictions == Y)/len(Y)\n",
    "    \n",
    "    return accuracy"
   ]
  },
  {
   "cell_type": "markdown",
   "metadata": {},
   "source": [
    "### Build Model "
   ]
  },
  {
   "cell_type": "code",
   "execution_count": 9,
   "metadata": {},
   "outputs": [],
   "source": [
    "def model( num_iterations = 2000, learning_rate = 0.005,print_cost = False, print_accuracy = True):\n",
    "    \"\"\"\n",
    "    Description: Builds the logistic regression model by calling the function we have implemented previously\n",
    "    \n",
    "    Arguments:\n",
    "    num_iterations -- hyperparameter representing the number of iterations to optimize the parameters\n",
    "    learning_rate -- hyperparameter representing the learning rate used in the update rule of optimize()\n",
    "    print_cost -- Set to true to print the cost every 100 iterations\n",
    "    \n",
    "    Returns:\n",
    "    d -- dictionary containing information about the model.\n",
    "    \n",
    "    \"\"\"\n",
    "    \n",
    "    ##Running the implemented code\n",
    "    classification = []\n",
    "    logistic_reg_accuracy = np.zeros((10))\n",
    "\n",
    "    X_data_scaled = feature_scaling(X_data)\n",
    "    \n",
    "    ##Iterating over the implemented Logistic Regression for 10 times\n",
    "    for t in range(10):\n",
    "        # Splitting the data into traning and testing where training data is 2/3 of dataset randomly with the help of \"Shuffle\"\n",
    "        X_train, X_test, Y_train, Y_test = train_test_split(X_data_scaled, Y_data, train_size = 2/3, shuffle = True)\n",
    "        classes = np.unique(Y_data)\n",
    "        theta = np.zeros((3, 8)) \n",
    "        i = 0\n",
    "        for j in classes:\n",
    "            #converting the categorical variables to 0 and 1\n",
    "            Y_temp = np.array(Y_train == j, dtype = int)\n",
    "            #print(Y_temp)\n",
    "            Y_temp = Y_temp.reshape((Y_temp.shape[0], 1))\n",
    "            costs, optimal_theta = optimize(X_train, Y_temp, np.zeros((8,1)),num_iterations , learning_rate , print_cost)\n",
    "            theta[i] = optimal_theta\n",
    "            i += 1\n",
    "          \n",
    "        #Predicting for X_test for every iteration\n",
    "        predictions = predict(theta, X_test)\n",
    "    \n",
    "        for j in range(len(predictions)):\n",
    "            classification.append(\"%s, %s\" %(predictions[j], Y_test[j]))\n",
    "    \n",
    "        #Storing the accuracies of each iteration\n",
    "        logistic_reg_accuracy[t] = accuracy(Y_test, predictions)*100\n",
    "        if print_accuracy:\n",
    "            ##Printing the accuracies of each iteration\n",
    "            print(\"Accuracy for \", t+1, \" iteration: \", logistic_reg_accuracy[t])\n",
    "\n",
    "    ##printing the average of accuracies across 10 iterations\n",
    "    print(\"\\nAverage Test Accuracy for Implemented Logistic Regression: \", logistic_reg_accuracy.mean(), '%')\n",
    "\n",
    "    ##Writing the results to file\n",
    "    f = open('C:\\\\Users\\\\javva\\\\Downloads\\\\predictions.csv', 'w')\n",
    "    for line in classification:\n",
    "        f.write(line + \"\\n\")\n",
    "    f.close()\n",
    "    \n",
    "    d = {\"costs\": costs,\n",
    "         \"Y_test\": Y_test, \n",
    "         \"Y_test_predictions\" : predictions, \n",
    "         \"learning_rate\" : learning_rate,\n",
    "         \"num_iterations\": num_iterations,\n",
    "         \"logistic_reg_accuracy\": logistic_reg_accuracy}\n",
    "    \n",
    "    return d"
   ]
  },
  {
   "cell_type": "markdown",
   "metadata": {},
   "source": [
    "### Average Accuracy of the model, Learning Curve and Confusion matrix"
   ]
  },
  {
   "cell_type": "code",
   "execution_count": 10,
   "metadata": {},
   "outputs": [
    {
     "name": "stdout",
     "output_type": "stream",
     "text": [
      "Accuracy for  1  iteration:  98.07692307692307\n",
      "Accuracy for  2  iteration:  98.07692307692307\n",
      "Accuracy for  3  iteration:  98.07692307692307\n",
      "Accuracy for  4  iteration:  94.23076923076923\n",
      "Accuracy for  5  iteration:  96.15384615384616\n",
      "Accuracy for  6  iteration:  92.3076923076923\n",
      "Accuracy for  7  iteration:  100.0\n",
      "Accuracy for  8  iteration:  98.07692307692307\n",
      "Accuracy for  9  iteration:  98.07692307692307\n",
      "Accuracy for  10  iteration:  100.0\n",
      "\n",
      "Average Test Accuracy for Implemented Logistic Regression:  97.3076923076923 %\n"
     ]
    },
    {
     "data": {
      "image/png": "[encoded data removed]",
      "text/plain": [
       "<Figure size 432x288 with 1 Axes>"
      ]
     },
     "metadata": {
      "needs_background": "light"
     },
     "output_type": "display_data"
    },
    {
     "data": {
      "text/plain": [
       "[Text(33.0, 0.5, 'False Values'), Text(0.5, 15.0, 'True Values')]"
      ]
     },
     "execution_count": 10,
     "metadata": {},
     "output_type": "execute_result"
    },
    {
     "data": {
      "image/png": "[encoded data removed]",
      "text/plain": [
       "<Figure size 432x288 with 2 Axes>"
      ]
     },
     "metadata": {
      "needs_background": "light"
     },
     "output_type": "display_data"
    }
   ],
   "source": [
    "\"\"\"\n",
    "Description : Executing the logistic algorithm built from scratch and plotting the convergence of cost and confusion matrix\n",
    "\n",
    "\"\"\"\n",
    "d = model(num_iterations = 10000, learning_rate = 0.001)\n",
    "plt.plot(range(len(d[\"costs\"])),d[\"costs\"],'r')\n",
    "plt.title(\"Learning Curve \")\n",
    "plt.xlabel(\"Number of Iterations\")\n",
    "plt.ylabel(\"Cost\")\n",
    "plt.show()\n",
    "\n",
    "#Confusion matrix for the last iteration of Logistic Regression model\n",
    "conf_matrix = confusion_matrix(d[\"Y_test\"],d[\"Y_test_predictions\"])\n",
    "matrix = sns.heatmap(conf_matrix, annot = True, xticklabels = classes, yticklabels = classes)\n",
    "matrix.set(xlabel = \"True Values\", ylabel = \"False Values\")"
   ]
  },
  {
   "cell_type": "markdown",
   "metadata": {},
   "source": [
    "### Comparing different learning rates "
   ]
  },
  {
   "cell_type": "code",
   "execution_count": 11,
   "metadata": {},
   "outputs": [
    {
     "name": "stdout",
     "output_type": "stream",
     "text": [
      "learning rate is: 0.5\n",
      "\n",
      "Average Test Accuracy for Implemented Logistic Regression:  97.11538461538461 %\n",
      "\n",
      "-------------------------------------------------------\n",
      "\n",
      "learning rate is: 0.1\n",
      "\n",
      "Average Test Accuracy for Implemented Logistic Regression:  97.3076923076923 %\n",
      "\n",
      "-------------------------------------------------------\n",
      "\n",
      "learning rate is: 0.01\n",
      "\n",
      "Average Test Accuracy for Implemented Logistic Regression:  95.19230769230771 %\n",
      "\n",
      "-------------------------------------------------------\n",
      "\n",
      "learning rate is: 0.001\n",
      "\n",
      "Average Test Accuracy for Implemented Logistic Regression:  95.96153846153847 %\n",
      "\n",
      "-------------------------------------------------------\n",
      "\n"
     ]
    },
    {
     "data": {
      "image/png": "[encoded data removed]",
      "text/plain": [
       "<Figure size 432x288 with 1 Axes>"
      ]
     },
     "metadata": {
      "needs_background": "light"
     },
     "output_type": "display_data"
    }
   ],
   "source": [
    "\"\"\"\n",
    "Description : Comparing the learning curve of our model with several choices of learning rates\n",
    "\n",
    "\"\"\"\n",
    "learning_rates = [0.5,0.1,0.01, 0.001]\n",
    "models = {}\n",
    "for i in learning_rates:\n",
    "    print (\"learning rate is: \" + str(i))\n",
    "    models[str(i)] = model( num_iterations = 2000, learning_rate = i, print_accuracy = False)\n",
    "    print ('\\n' + \"-------------------------------------------------------\" + '\\n')\n",
    "\n",
    "for i in learning_rates:\n",
    "    plt.plot(np.squeeze(models[str(i)][\"costs\"]), label= str(models[str(i)][\"learning_rate\"]))\n",
    "\n",
    "plt.ylabel('cost')\n",
    "plt.xlabel('iterations (hundreds)')\n",
    "\n",
    "legend = plt.legend(loc='upper right', shadow=True)\n",
    "frame = legend.get_frame()\n",
    "frame.set_facecolor('0.90')\n",
    "plt.show()"
   ]
  },
  {
   "cell_type": "markdown",
   "metadata": {},
   "source": [
    "### Sci-kit Learn Logistic Regression Implementation"
   ]
  },
  {
   "cell_type": "code",
   "execution_count": 13,
   "metadata": {},
   "outputs": [
    {
     "name": "stdout",
     "output_type": "stream",
     "text": [
      "Accuracy for  1  iteration:  93.75\n",
      "Accuracy for  2  iteration:  100.0\n",
      "Accuracy for  3  iteration:  100.0\n",
      "Accuracy for  4  iteration:  100.0\n",
      "Accuracy for  5  iteration:  100.0\n",
      "Accuracy for  6  iteration:  93.33333333333333\n",
      "Accuracy for  7  iteration:  93.33333333333333\n",
      "Accuracy for  8  iteration:  100.0\n",
      "Accuracy for  9  iteration:  86.66666666666667\n",
      "Accuracy for  10  iteration:  93.33333333333333\n",
      "\n",
      "Average Scikit-Learn Logistic Regression accuracy for test data:  96.04166666666666 %\n"
     ]
    }
   ],
   "source": [
    "\"\"\"\n",
    "Description : Implementation of Logistic Regression using  scikit-learn\n",
    "\n",
    "\"\"\"\n",
    "sci_learn_accuracy = np.zeros((10))\n",
    "X_data = preprocessing.scale(X_data)\n",
    "logistic_reg_model = LogisticRegression(solver='lbfgs', multi_class='multinomial')\n",
    "kfold_result = cross_val_score(logistic_reg_model, X_data, Y_data, cv=10, scoring='accuracy')\n",
    "sci_learn_accuracy = kfold_result*100\n",
    "\n",
    "#Printing the accuracies of each iteration\n",
    "for j in range(10):\n",
    "    print(\"Accuracy for \", j+1, \" iteration: \", sci_learn_accuracy[j])\n",
    "print(\"\\nAverage Scikit-Learn Logistic Regression accuracy for test data: \", sci_learn_accuracy.mean(), '%')"
   ]
  },
  {
   "cell_type": "markdown",
   "metadata": {},
   "source": [
    "### Plotting Accuracies for both the implementations "
   ]
  },
  {
   "cell_type": "code",
   "execution_count": 14,
   "metadata": {},
   "outputs": [
    {
     "data": {
      "text/plain": [
       "<function matplotlib.pyplot.show(*args, **kw)>"
      ]
     },
     "execution_count": 14,
     "metadata": {},
     "output_type": "execute_result"
    },
    {
     "data": {
      "image/png": "[encoded data removed]",
      "text/plain": [
       "<Figure size 432x288 with 1 Axes>"
      ]
     },
     "metadata": {
      "needs_background": "light"
     },
     "output_type": "display_data"
    }
   ],
   "source": [
    "\"\"\"\n",
    "Description : Plotting the accuracies for both the implementations\n",
    "\n",
    "\"\"\"\n",
    "plt.plot(range(10), sci_learn_accuracy, label = 'Scikit-Learn Logistic Regression')\n",
    "plt.plot(range(10), d[\"logistic_reg_accuracy\"], label = 'Implemented Logistic Regression')\n",
    "plt.ylabel('Accuracy')\n",
    "plt.xlabel('Iteration')\n",
    "plt.title('Comparing Accuracies for both the Implementations')\n",
    "plt.legend()\n",
    "plt.show "
   ]
  },
  {
   "cell_type": "code",
   "execution_count": null,
   "metadata": {},
   "outputs": [],
   "source": []
  }
 ],
 "metadata": {
  "kernelspec": {
   "display_name": "Python 3",
   "language": "python",
   "name": "python3"
  },
  "language_info": {
   "codemirror_mode": {
    "name": "ipython",
    "version": 3
   },
   "file_extension": ".py",
   "mimetype": "text/x-python",
   "name": "python",
   "nbconvert_exporter": "python",
   "pygments_lexer": "ipython3",
   "version": "3.8.3"
  }
 },
 "nbformat": 4,
 "nbformat_minor": 4
}
